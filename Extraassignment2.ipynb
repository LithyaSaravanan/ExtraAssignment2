{
 "cells": [
  {
   "cell_type": "code",
   "execution_count": 5,
   "id": "caed91a6-049d-4515-8533-94b5524e8b3f",
   "metadata": {},
   "outputs": [
    {
     "name": "stdout",
     "output_type": "stream",
     "text": [
      "0\n",
      "1\n",
      "2\n",
      "3\n",
      "4\n",
      "5\n",
      "6\n",
      "7\n",
      "8\n",
      "9\n",
      "10\n",
      "11\n",
      "12\n",
      "13\n",
      "14\n",
      "15\n",
      "16\n",
      "17\n",
      "18\n",
      "19\n"
     ]
    }
   ],
   "source": [
    "for num in range(0,20):\n",
    "    print(num)"
   ]
  },
  {
   "cell_type": "code",
   "execution_count": 6,
   "id": "a03b8856-9daa-4a55-9560-7e5d72f6d26a",
   "metadata": {},
   "outputs": [
    {
     "name": "stdout",
     "output_type": "stream",
     "text": [
      "10\n",
      "11\n",
      "12\n",
      "13\n",
      "14\n",
      "15\n",
      "16\n",
      "17\n",
      "18\n",
      "19\n"
     ]
    }
   ],
   "source": [
    "for num in range(10,20):\n",
    "    print(num)"
   ]
  },
  {
   "cell_type": "code",
   "execution_count": 15,
   "id": "a2e03ea2-cb6b-4c1f-b846-63b450413f41",
   "metadata": {},
   "outputs": [
    {
     "name": "stdout",
     "output_type": "stream",
     "text": [
      "Number of items in lists: 7\n"
     ]
    }
   ],
   "source": [
    "list1 = [10,20,14,55,43,87,76]\n",
    "print(\"Number of items in lists:\",len(lists))\n"
   ]
  },
  {
   "cell_type": "code",
   "execution_count": 19,
   "id": "6733d781-b948-40e7-976a-2cc685f802e0",
   "metadata": {},
   "outputs": [
    {
     "name": "stdout",
     "output_type": "stream",
     "text": [
      "Artificial intelligence\n",
      "a\n",
      "r\n",
      "t\n",
      "i\n",
      "f\n",
      "i\n",
      "c\n",
      "i\n",
      "a\n",
      "l\n",
      " \n",
      "i\n",
      "n\n",
      "t\n",
      "e\n",
      "l\n",
      "l\n",
      "i\n",
      "g\n",
      "e\n",
      "n\n",
      "c\n",
      "e\n"
     ]
    }
   ],
   "source": [
    "print(\"Artificial intelligence\")\n",
    "string = \"artificial intelligence\"\n",
    "\n",
    "for i in range(len(string)):\n",
    "    print(string[i])\n",
    "    "
   ]
  },
  {
   "cell_type": "code",
   "execution_count": 28,
   "id": "d8fb41da-cca1-4c74-8080-0096c9524098",
   "metadata": {},
   "outputs": [
    {
     "name": "stdout",
     "output_type": "stream",
     "text": [
      "-Your Name-\n",
      "-Your Age-\n",
      "-Your Profession-\n"
     ]
    }
   ],
   "source": [
    "name = \"Your Name\"\n",
    "output = \"-\" + name + \"-\"\n",
    "print(output)\n",
    "\n",
    "Age = \"Your Age\"\n",
    "output = \"-\" + Age + \"-\"\n",
    "print(output)\n",
    "\n",
    "Profession = \"Your Profession\"\n",
    "output = \"-\" + Profession + \"-\"\n",
    "print(output)\n",
    "\n",
    "\n"
   ]
  },
  {
   "cell_type": "code",
   "execution_count": 29,
   "id": "57bbd94e-0faf-4137-a8de-dfa06676bff1",
   "metadata": {},
   "outputs": [
    {
     "name": "stdout",
     "output_type": "stream",
     "text": [
      "(1, 'Welcome', 2, 'Hope')\n"
     ]
    }
   ],
   "source": [
    "mixed_tuple = (1, 'Welcome', 2, 'Hope')\n",
    "print(mixed_tuple)\n"
   ]
  },
  {
   "cell_type": "code",
   "execution_count": 31,
   "id": "1f6c4b38-0cf7-4e65-a76d-394381b2cbcd",
   "metadata": {},
   "outputs": [
    {
     "name": "stdout",
     "output_type": "stream",
     "text": [
      "((0, 1, 2, 3), ('python', 'HOPE'))\n"
     ]
    }
   ],
   "source": [
    "tuple1 = (0, 1, 2, 3)\n",
    "mixed_tuple = (tuple1, ('python', 'HOPE'))\n",
    "print(mixed_tuple)"
   ]
  },
  {
   "cell_type": "code",
   "execution_count": 38,
   "id": "57bf212b-434a-4da5-81e4-2297eb051cf3",
   "metadata": {},
   "outputs": [
    {
     "name": "stdout",
     "output_type": "stream",
     "text": [
      "19 is odd\n",
      "25 is odd\n",
      "1 is odd\n"
     ]
    }
   ],
   "source": [
    "my_list = [20,10,16,19,25,1,276,188]\n",
    "\n",
    "for num in my_list:\n",
    "    if num % 2 != 0:\n",
    "        print(num,\"is odd\")\n",
    "\n"
   ]
  },
  {
   "cell_type": "code",
   "execution_count": 40,
   "id": "a717b878-f329-4381-b184-e69c36e9da1e",
   "metadata": {},
   "outputs": [
    {
     "name": "stdout",
     "output_type": "stream",
     "text": [
      "20 is Even\n",
      "10 is Even\n",
      "16 is Even\n",
      "276 is Even\n",
      "188 is Even\n"
     ]
    }
   ],
   "source": [
    "my_list = [20,10,16,19,25,1,276,188]\n",
    "\n",
    "for num in my_list:\n",
    "    if num % 2 != 1:\n",
    "        print(num,\"is Even\")\n"
   ]
  },
  {
   "cell_type": "code",
   "execution_count": null,
   "id": "70e4bad3-d521-453f-aa3f-92d13f8f8951",
   "metadata": {},
   "outputs": [],
   "source": []
  }
 ],
 "metadata": {
  "kernelspec": {
   "display_name": "Python 3 (ipykernel)",
   "language": "python",
   "name": "python3"
  },
  "language_info": {
   "codemirror_mode": {
    "name": "ipython",
    "version": 3
   },
   "file_extension": ".py",
   "mimetype": "text/x-python",
   "name": "python",
   "nbconvert_exporter": "python",
   "pygments_lexer": "ipython3",
   "version": "3.11.7"
  }
 },
 "nbformat": 4,
 "nbformat_minor": 5
}
